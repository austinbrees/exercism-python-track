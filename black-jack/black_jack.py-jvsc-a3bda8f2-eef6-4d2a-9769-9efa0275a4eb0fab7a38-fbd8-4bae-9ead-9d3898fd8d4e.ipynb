{
 "cells": [
  {
   "cell_type": "code",
   "execution_count": null,
   "metadata": {},
   "outputs": [],
   "source": []
  }
 ],
 "metadata": {
  "kernelspec": {
   "display_name": "Python 3.9.12 ('base')",
   "language": "python",
   "name": "python3"
  },
  "language_info": {
   "name": "python",
   "version": "3.9.12"
  },
  "vscode": {
   "interpreter": {
    "hash": "d4b0b992b5ee8f12e95d379165dab87402cfa31fd20604607e733fd6b56611ce"
   }
  }
 },
 "nbformat": 4,
 "nbformat_minor": 5
}
